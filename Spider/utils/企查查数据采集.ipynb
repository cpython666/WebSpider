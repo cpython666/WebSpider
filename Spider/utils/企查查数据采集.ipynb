{
 "cells": [
  {
   "cell_type": "code",
   "execution_count": null,
   "metadata": {
    "collapsed": true,
    "pycharm": {
     "name": "#%%\n"
    }
   },
   "outputs": [],
   "source": [
    "from selenium import webdriver\n",
    "import os\n",
    "current_path = os.path.dirname(os.path.abspath(__file__))\n",
    "driver = webdriver.Chrome(executable_path=os.path.join(current_path,'chromedriver.exe'))\n",
    "\n",
    "with open(os.path.join(current_path,'stealth.min.js')) as f:\n",
    "    js = f.read()\n",
    "\n",
    "driver.execute_cdp_cmd(\"Page.addScriptToEvaluateOnNewDocument\", {\n",
    "    \"source\": js\n",
    "})\n",
    "driver.get('')"
   ]
  }
 ],
 "metadata": {
  "kernelspec": {
   "display_name": "Python 3",
   "language": "python",
   "name": "python3"
  },
  "language_info": {
   "codemirror_mode": {
    "name": "ipython",
    "version": 2
   },
   "file_extension": ".py",
   "mimetype": "text/x-python",
   "name": "python",
   "nbconvert_exporter": "python",
   "pygments_lexer": "ipython2",
   "version": "2.7.6"
  }
 },
 "nbformat": 4,
 "nbformat_minor": 0
}